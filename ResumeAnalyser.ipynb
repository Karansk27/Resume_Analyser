{
  "cells": [
    {
      "cell_type": "code",
      "execution_count": null,
      "metadata": {
        "id": "7pcIcO8q8eQ1"
      },
      "outputs": [],
      "source": [
        "%%capture\n",
        "!pip install openai==0.28 -q\n",
        "!pip install gradio==3.36.1\n",
        "!pip install PyPDF2==2.12.1\n",
        "!pip install plotly\n",
        "!pip install plotly-express"
      ]
    },
    {
      "cell_type": "code",
      "execution_count": null,
      "metadata": {
        "colab": {
          "base_uri": "https://localhost:8080/"
        },
        "id": "BEkceL1N8fT_",
        "outputId": "8de02956-6242-439a-ff3d-53f1de2d2b54"
      },
      "outputs": [
        {
          "name": "stdout",
          "output_type": "stream",
          "text": [
            "Writing style.css\n"
          ]
        }
      ],
      "source": [
        "%%writefile style.css\n",
        " {\n",
        "  max-width: 600px;\n",
        "  margin-left: auto;\n",
        "  margin-right: auto;\n",
        "}\n",
        "\n",
        " {\n",
        "  display: flex;\n",
        "  align-items: center;\n",
        "  justify-content: center;\n",
        "}\n",
        "gradio-app{\n",
        "  background: rgb(153,0,255);\n",
        "  background-image: radial-gradient(circle, rgba(153,0,255,1) 0%, rgba(9,15,121,1) 96%, rgba(2,0,36,1) 100%) !important;\n",
        "  height: 100%;\n",
        "  width: 100%;\n",
        "}\n",
        ".leftimage .rightimage{\n",
        "  float:left;\n",
        "  filter: drop-shadow(20px 20px 10px white);\n",
        "}\n",
        ".leftimage{\n",
        "  padding-top:40px;\n",
        "  margin-left:310px;\n",
        "}\n",
        ".rightimage{\n",
        "  padding-top:40px;\n",
        "  margin-right:320px;\n",
        "}\n",
        "a,\n",
        "a:hover,\n",
        "a:visited {\n",
        "  text-decoration-line: underline;\n",
        "  font-weight: 600;\n",
        "  color: 1f2937 !important;\n",
        "}\n",
        "\n",
        ".dark a,\n",
        ".dark a:hover,\n",
        ".dark a:visited {\n",
        "  color: f3f4f6 !important;\n",
        "}"
      ]
    },
    {
      "cell_type": "code",
      "execution_count": null,
      "metadata": {
        "colab": {
          "background_save": true,
          "base_uri": "https://localhost:8080/",
          "height": 845
        },
        "id": "PCnmi_uOBAZ4",
        "outputId": "cb71ae05-9c83-4f05-ebbc-34c329f3eeba"
      },
      "outputs": [
        {
          "name": "stderr",
          "output_type": "stream",
          "text": [
            "/usr/local/lib/python3.10/dist-packages/gradio_client/documentation.py:103: UserWarning: Could not get documentation group for <class 'gradio.mix.Parallel'>: No known documentation group for module 'gradio.mix'\n",
            "  warnings.warn(f\"Could not get documentation group for {cls}: {exc}\")\n",
            "/usr/local/lib/python3.10/dist-packages/gradio_client/documentation.py:103: UserWarning: Could not get documentation group for <class 'gradio.mix.Series'>: No known documentation group for module 'gradio.mix'\n",
            "  warnings.warn(f\"Could not get documentation group for {cls}: {exc}\")\n",
            "/usr/local/lib/python3.10/dist-packages/huggingface_hub/utils/_token.py:88: UserWarning: \n",
            "The secret `HF_TOKEN` does not exist in your Colab secrets.\n",
            "To authenticate with the Hugging Face Hub, create a token in your settings tab (https://huggingface.co/settings/tokens), set it as secret in your Google Colab and restart your session.\n",
            "You will be able to reuse this secret in all of your notebooks.\n",
            "Please note that authentication is recommended but still optional to access public models or datasets.\n",
            "  warnings.warn(\n"
          ]
        },
        {
          "name": "stdout",
          "output_type": "stream",
          "text": [
            "Colab notebook detected. This cell will run indefinitely so that you can see errors and logs. To turn off, set debug=False in launch().\n",
            "Note: opening Chrome Inspector may crash demo inside Colab notebooks.\n",
            "\n",
            "To create a public link, set `share=True` in `launch()`.\n"
          ]
        },
        {
          "data": {
            "application/javascript": [
              "(async (port, path, width, height, cache, element) => {\n",
              "                        if (!google.colab.kernel.accessAllowed && !cache) {\n",
              "                            return;\n",
              "                        }\n",
              "                        element.appendChild(document.createTextNode(''));\n",
              "                        const url = await google.colab.kernel.proxyPort(port, {cache});\n",
              "\n",
              "                        const external_link = document.createElement('div');\n",
              "                        external_link.innerHTML = `\n",
              "                            <div style=\"font-family: monospace; margin-bottom: 0.5rem\">\n",
              "                                Running on <a href=${new URL(path, url).toString()} target=\"_blank\">\n",
              "                                    https://localhost:${port}${path}\n",
              "                                </a>\n",
              "                            </div>\n",
              "                        `;\n",
              "                        element.appendChild(external_link);\n",
              "\n",
              "                        const iframe = document.createElement('iframe');\n",
              "                        iframe.src = new URL(path, url).toString();\n",
              "                        iframe.height = height;\n",
              "                        iframe.allow = \"autoplay; camera; microphone; clipboard-read; clipboard-write;\"\n",
              "                        iframe.width = width;\n",
              "                        iframe.style.border = 0;\n",
              "                        element.appendChild(iframe);\n",
              "                    })(7860, \"/\", \"100%\", 500, false, window.element)"
            ],
            "text/plain": [
              "<IPython.core.display.Javascript object>"
            ]
          },
          "metadata": {},
          "output_type": "display_data"
        },
        {
          "name": "stdout",
          "output_type": "stream",
          "text": [
            "Error in OpenAI request: Your account is not active, please check your billing details on our website.\n",
            "generate response None\n",
            "Error in OpenAI request: Your account is not active, please check your billing details on our website.\n",
            "generate response None\n"
          ]
        }
      ],
      "source": [
        "import gradio as gr\n",
        "import PyPDF2\n",
        "import os\n",
        "import re\n",
        "import plotly.graph_objects as go\n",
        "import openai\n",
        "\n",
        "class ResumeAnalyser:\n",
        "    def __init__(self, api_key):\n",
        "        openai.api_key = api_key\n",
        "\n",
        "    def extract_text_from_file(self, file_path):\n",
        "        file_extension = os.path.splitext(file_path)[1].lower()\n",
        "\n",
        "        if file_extension == '.pdf':\n",
        "            with open(file_path, 'rb') as file:\n",
        "                reader = PyPDF2.PdfFileReader(file)\n",
        "                extracted_text = \"\"\n",
        "                for page_number in range(reader.getNumPages()):\n",
        "                    page = reader.getPage(page_number)\n",
        "                    extracted_text += page.extractText()\n",
        "            return extracted_text\n",
        "        elif file_extension == '.txt':\n",
        "            with open(file_path, 'r') as file:\n",
        "                return file.read()\n",
        "        else:\n",
        "            return \"Unsupported file type\"\n",
        "\n",
        "    def response_from_ai(self, job_description_path, resume_path):\n",
        "        job_description = self.extract_text_from_file(job_description_path)\n",
        "        resume = self.extract_text_from_file(resume_path)\n",
        "\n",
        "        conversation = [\n",
        "            {\"role\": \"system\", \"content\": \"You are a Resume Analyser\"},\n",
        "            {\"role\": \"user\", \"content\": f\"\"\"\n",
        "            Given the job description and the resume, access the matching percentage to 100 and if 100 percentage not matched mention the remaining percentage with reason.if doesn't match return 0. **Job Description:**{job_description}**Resume:**{resume}\n",
        "            **Detailed Analysis:**\n",
        "            the result should be in this format:\n",
        "            Matched Percentage: [matching percentage].\n",
        "            Reason            : [give me a Reason (shortly in passage) and keys from job_description and resume get this matched percentage.].\n",
        "            Skills To Improve : [give me a the skills How to improve and get 100 percentage job description matching (shortly in passage).].\n",
        "            Keywords          : [give me a matched key words from {job_description} and {resume}].\n",
        "            \"\"\"}\n",
        "        ]\n",
        "\n",
        "        try:\n",
        "            response = openai.ChatCompletion.create(\n",
        "                model=\"gpt-3.5-turbo-16k\",\n",
        "                messages=conversation,\n",
        "                temperature=0,\n",
        "                max_tokens=500,\n",
        "                n=1,\n",
        "                stop=None,\n",
        "            )\n",
        "            generated_text = response['choices'][0]['message']['content']\n",
        "            print(generated_text)\n",
        "            return generated_text\n",
        "        except Exception as e:\n",
        "            print(f\"Error in OpenAI request: {e}\")\n",
        "            return None\n",
        "\n",
        "    def matching_percentage(self, job_description_path, resume_path):\n",
        "        generated_text = self.response_from_ai(job_description_path.name, resume_path.name)\n",
        "        print(\"generate response\",generated_text)\n",
        "        if generated_text:\n",
        "            lines = generated_text.split('\\n')\n",
        "\n",
        "            matched_percentage = 0\n",
        "            reason = \"\"\n",
        "            skills_to_improve = \"\"\n",
        "            keywords = \"\"\n",
        "\n",
        "            for line in lines:\n",
        "                if line.startswith('Matched Percentage:'):\n",
        "                    matched_percentage = int(re.search(r'\\d+', line).group())\n",
        "                elif line.startswith('Reason'):\n",
        "                    reason = line.split(':')[1].strip()\n",
        "                elif line.startswith('Skills To Improve'):\n",
        "                    skills_to_improve = line.split(':')[1].strip()\n",
        "                elif line.startswith('Keywords'):\n",
        "                    keywords = line.split(':')[1].strip()\n",
        "\n",
        "            # Create a pie chart with plotly\n",
        "            fig = go.Figure(data=[go.Pie(labels=['Matched', 'Remaining'], values=[matched_percentage, 100 - matched_percentage])])\n",
        "            return matched_percentage, reason, skills_to_improve, keywords, fig\n",
        "        else:\n",
        "            return None, None, None, None, None\n",
        "\n",
        "    def gradio_interface(self):\n",
        "        with gr.Blocks(css=\"/content/style.css\", theme=\"freddyaboulton/test-blue\") as app:\n",
        "            gr.HTML(\"\"\"<center class=\"darkblue\" text-align:center;padding:30px;'><center>\n",
        "                <center><h1 class =\"center\" style=\"color:#fff\">Department of Computer Science</h1></center>\n",
        "                <br><center><h1 style=\"color:#fff\">Resume Analyser</h1></center>\"\"\")\n",
        "\n",
        "            with gr.Row():\n",
        "                with gr.Column(scale=0.45, min_width=150):\n",
        "                    file_jd = gr.File()\n",
        "                    jobDescription = gr.UploadButton(\"Browse File\", file_types=[\".txt\", \".pdf\", \".doc\", \".docx\", \".json\", \".csv\"], elem_classes=\"filenameshow\")\n",
        "                with gr.Column(scale=0.45, min_width=150):\n",
        "                    file_resume = gr.File()\n",
        "                    resume = gr.UploadButton(\"Browse File\", file_types=[\".txt\", \".pdf\", \".doc\", \".docx\", \".json\", \".csv\"], elem_classes=\"filenameshow\")\n",
        "                with gr.Column(scale=0.10, min_width=150):\n",
        "                    analyse = gr.Button(\"Analyse\")\n",
        "            with gr.Row():\n",
        "                with gr.Column(scale=1.0, min_width=150):\n",
        "                    perncentage = gr.Textbox(label=\"Matching Percentage\", lines=8)\n",
        "                with gr.Column(scale=1.0, min_width=150):\n",
        "                    reason = gr.Textbox(label=\"Matching Reason\", lines=8)\n",
        "                with gr.Column(scale=1.0, min_width=150):\n",
        "                    skills = gr.Textbox(label=\"Skills To Improve\", lines=8)\n",
        "                with gr.Column(scale=1.0, min_width=150):\n",
        "                    keywords = gr.Textbox(label=\"Matched Keywords\", lines=8)\n",
        "            with gr.Row():\n",
        "                with gr.Column(scale=1.0, min_width=150):\n",
        "                    pychart = gr.Plot(label=\"Matching Percentage Chart\")\n",
        "            jobDescription.upload(self.filename, jobDescription, file_jd)\n",
        "            resume.upload(self.filename, resume, file_resume)\n",
        "            analyse.click(self.matching_percentage, [jobDescription, resume], [perncentage, reason, skills, keywords, pychart])\n",
        "\n",
        "        app.launch(debug=True)\n",
        "\n",
        "    def filename(self, uploadbutton):\n",
        "        return uploadbutton.name\n",
        "\n",
        "api_key = 'API-KEy'\n",
        "resume = ResumeAnalyser(api_key)\n",
        "resume.gradio_interface()"
      ]
    }
  ],
  "metadata": {
    "colab": {
      "provenance": []
    },
    "kernelspec": {
      "display_name": "Python 3",
      "name": "python3"
    },
    "language_info": {
      "name": "python"
    }
  },
  "nbformat": 4,
  "nbformat_minor": 0
}